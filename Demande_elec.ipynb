{
 "cells": [
  {
   "cell_type": "markdown",
   "id": "3702a16c",
   "metadata": {},
   "source": [
    "# Chargement des libraries"
   ]
  },
  {
   "cell_type": "code",
   "execution_count": 1,
   "id": "cc3bd960",
   "metadata": {},
   "outputs": [
    {
     "name": "stderr",
     "output_type": "stream",
     "text": [
      "Warning message:\n",
      "\"package 'tidyr' was built under R version 3.6.3\"Warning message:\n",
      "\"package 'tibble' was built under R version 3.6.3\"Warning message:\n",
      "\"package 'ggplot2' was built under R version 3.6.3\"Warning message:\n",
      "\"package 'dplyr' was built under R version 3.6.3\"\n",
      "Attaching package: 'dplyr'\n",
      "\n",
      "The following objects are masked from 'package:stats':\n",
      "\n",
      "    filter, lag\n",
      "\n",
      "The following objects are masked from 'package:base':\n",
      "\n",
      "    intersect, setdiff, setequal, union\n",
      "\n",
      "\n",
      "Attaching package: 'pracma'\n",
      "\n",
      "The following object is masked from 'package:purrr':\n",
      "\n",
      "    cross\n",
      "\n",
      "Warning message:\n",
      "\"package 'lubridate' was built under R version 3.6.3\"\n",
      "Attaching package: 'lubridate'\n",
      "\n",
      "The following objects are masked from 'package:base':\n",
      "\n",
      "    date, intersect, setdiff, union\n",
      "\n",
      "Registered S3 method overwritten by 'xts':\n",
      "  method     from\n",
      "  as.zoo.xts zoo \n",
      "Registered S3 method overwritten by 'quantmod':\n",
      "  method            from\n",
      "  as.zoo.data.frame zoo \n",
      "Registered S3 methods overwritten by 'forecast':\n",
      "  method             from    \n",
      "  fitted.fracdiff    fracdiff\n",
      "  residuals.fracdiff fracdiff\n"
     ]
    }
   ],
   "source": [
    "library(tidyr)\n",
    "library(openxlsx)\n",
    "library(readxl)\n",
    "library(tibble)\n",
    "library(ggplot2)\n",
    "library(purrr)\n",
    "library(dplyr)\n",
    "library(pracma)\n",
    "\n",
    "# Manipulation des dates\n",
    "library(lubridate)\n",
    "\n",
    "# analyse et prédiction des séries temporelles univariées\n",
    "library(forecast)\n",
    "\n",
    "# Séries temporelles et calculs financiers\n",
    "library(tseries)\n"
   ]
  },
  {
   "cell_type": "code",
   "execution_count": 2,
   "id": "ff407714",
   "metadata": {},
   "outputs": [],
   "source": [
    "# Lecture du dataframe de RTE sur la consommation énergétique\n",
    "elec <- read.csv(\"C:/Users/Thibaut/Google Drive/Data Analyse/OpenClassRoom - Projets/Projet 9/data/eCO2mix_RTE_energie_M.csv\", header=TRUE, sep=\";\")"
   ]
  },
  {
   "cell_type": "code",
   "execution_count": 3,
   "id": "d3cb544e",
   "metadata": {},
   "outputs": [],
   "source": [
    "# Lecture des données météo\n",
    "meteo <- read_excel(\"C:/Users/Thibaut/Google Drive/Data Analyse/OpenClassRoom - Projets/Projet 9/data/calcul_DJU_15_12_2021.xlsx\")"
   ]
  },
  {
   "cell_type": "markdown",
   "id": "d76a5fcd",
   "metadata": {},
   "source": [
    "## Nettoyage du dataframe des degrés de jour unifiés (DJU)"
   ]
  },
  {
   "cell_type": "code",
   "execution_count": 4,
   "id": "3441b2cf",
   "metadata": {},
   "outputs": [
    {
     "data": {
      "text/html": [
       "<table>\n",
       "<thead><tr><th scope=col>Year</th><th scope=col>JAN</th><th scope=col>FÉV</th><th scope=col>MAR</th><th scope=col>AVR</th><th scope=col>MAI</th><th scope=col>JUN</th><th scope=col>JUI</th><th scope=col>AOÛ</th><th scope=col>SEP</th><th scope=col>OCT</th><th scope=col>NOV</th><th scope=col>DÉC</th><th scope=col>Total</th></tr></thead>\n",
       "<tbody>\n",
       "\t<tr><td>2021  </td><td>396.7 </td><td>302.8 </td><td>271.0 </td><td>228.3 </td><td>138.3 </td><td> 0.0  </td><td>0.0   </td><td>0.0   </td><td> 0.0  </td><td>  0.0 </td><td>  0.0 </td><td>  0.0 </td><td>1336.9</td></tr>\n",
       "\t<tr><td>2020  </td><td>339.0 </td><td>249.6 </td><td>268.6 </td><td> 81.4 </td><td> 65.7 </td><td>20.6  </td><td>0.9   </td><td>4.5   </td><td>34.3  </td><td>157.5 </td><td>227.2 </td><td>336.8 </td><td>1785.9</td></tr>\n",
       "\t<tr><td>2019  </td><td>404.9 </td><td>268.3 </td><td>233.1 </td><td>168.5 </td><td>117.9 </td><td>24.4  </td><td>0.0   </td><td>1.7   </td><td>26.7  </td><td>133.7 </td><td>282.6 </td><td>327.3 </td><td>1989.0</td></tr>\n",
       "\t<tr><td>2018  </td><td>303.4 </td><td>432.6 </td><td>314.3 </td><td>119.7 </td><td> 55.9 </td><td> 8.1  </td><td>0.0   </td><td>3.3   </td><td>34.3  </td><td>122.4 </td><td>282.5 </td><td>325.9 </td><td>2002.2</td></tr>\n",
       "\t<tr><td>2017  </td><td>467.9 </td><td>278.4 </td><td>206.1 </td><td>182.6 </td><td> 75.0 </td><td> 9.4  </td><td>1.0   </td><td>6.8   </td><td>62.6  </td><td> 99.4 </td><td>282.6 </td><td>369.0 </td><td>2040.6</td></tr>\n",
       "\t<tr><td>2016  </td><td>364.4 </td><td>321.6 </td><td>321.1 </td><td>212.1 </td><td> 88.1 </td><td>27.5  </td><td>5.7   </td><td>3.2   </td><td>11.7  </td><td>176.0 </td><td>285.6 </td><td>390.8 </td><td>2207.3</td></tr>\n",
       "</tbody>\n",
       "</table>\n"
      ],
      "text/latex": [
       "\\begin{tabular}{r|llllllllllllll}\n",
       " Year & JAN & FÉV & MAR & AVR & MAI & JUN & JUI & AOÛ & SEP & OCT & NOV & DÉC & Total\\\\\n",
       "\\hline\n",
       "\t 2021   & 396.7  & 302.8  & 271.0  & 228.3  & 138.3  &  0.0   & 0.0    & 0.0    &  0.0   &   0.0  &   0.0  &   0.0  & 1336.9\\\\\n",
       "\t 2020   & 339.0  & 249.6  & 268.6  &  81.4  &  65.7  & 20.6   & 0.9    & 4.5    & 34.3   & 157.5  & 227.2  & 336.8  & 1785.9\\\\\n",
       "\t 2019   & 404.9  & 268.3  & 233.1  & 168.5  & 117.9  & 24.4   & 0.0    & 1.7    & 26.7   & 133.7  & 282.6  & 327.3  & 1989.0\\\\\n",
       "\t 2018   & 303.4  & 432.6  & 314.3  & 119.7  &  55.9  &  8.1   & 0.0    & 3.3    & 34.3   & 122.4  & 282.5  & 325.9  & 2002.2\\\\\n",
       "\t 2017   & 467.9  & 278.4  & 206.1  & 182.6  &  75.0  &  9.4   & 1.0    & 6.8    & 62.6   &  99.4  & 282.6  & 369.0  & 2040.6\\\\\n",
       "\t 2016   & 364.4  & 321.6  & 321.1  & 212.1  &  88.1  & 27.5   & 5.7    & 3.2    & 11.7   & 176.0  & 285.6  & 390.8  & 2207.3\\\\\n",
       "\\end{tabular}\n"
      ],
      "text/markdown": [
       "\n",
       "| Year | JAN | FÉV | MAR | AVR | MAI | JUN | JUI | AOÛ | SEP | OCT | NOV | DÉC | Total |\n",
       "|---|---|---|---|---|---|---|---|---|---|---|---|---|---|\n",
       "| 2021   | 396.7  | 302.8  | 271.0  | 228.3  | 138.3  |  0.0   | 0.0    | 0.0    |  0.0   |   0.0  |   0.0  |   0.0  | 1336.9 |\n",
       "| 2020   | 339.0  | 249.6  | 268.6  |  81.4  |  65.7  | 20.6   | 0.9    | 4.5    | 34.3   | 157.5  | 227.2  | 336.8  | 1785.9 |\n",
       "| 2019   | 404.9  | 268.3  | 233.1  | 168.5  | 117.9  | 24.4   | 0.0    | 1.7    | 26.7   | 133.7  | 282.6  | 327.3  | 1989.0 |\n",
       "| 2018   | 303.4  | 432.6  | 314.3  | 119.7  |  55.9  |  8.1   | 0.0    | 3.3    | 34.3   | 122.4  | 282.5  | 325.9  | 2002.2 |\n",
       "| 2017   | 467.9  | 278.4  | 206.1  | 182.6  |  75.0  |  9.4   | 1.0    | 6.8    | 62.6   |  99.4  | 282.6  | 369.0  | 2040.6 |\n",
       "| 2016   | 364.4  | 321.6  | 321.1  | 212.1  |  88.1  | 27.5   | 5.7    | 3.2    | 11.7   | 176.0  | 285.6  | 390.8  | 2207.3 |\n",
       "\n"
      ],
      "text/plain": [
       "  Year JAN   FÉV   MAR   AVR   MAI   JUN  JUI AOÛ SEP  OCT   NOV   DÉC   Total \n",
       "1 2021 396.7 302.8 271.0 228.3 138.3  0.0 0.0 0.0  0.0   0.0   0.0   0.0 1336.9\n",
       "2 2020 339.0 249.6 268.6  81.4  65.7 20.6 0.9 4.5 34.3 157.5 227.2 336.8 1785.9\n",
       "3 2019 404.9 268.3 233.1 168.5 117.9 24.4 0.0 1.7 26.7 133.7 282.6 327.3 1989.0\n",
       "4 2018 303.4 432.6 314.3 119.7  55.9  8.1 0.0 3.3 34.3 122.4 282.5 325.9 2002.2\n",
       "5 2017 467.9 278.4 206.1 182.6  75.0  9.4 1.0 6.8 62.6  99.4 282.6 369.0 2040.6\n",
       "6 2016 364.4 321.6 321.1 212.1  88.1 27.5 5.7 3.2 11.7 176.0 285.6 390.8 2207.3"
      ]
     },
     "metadata": {},
     "output_type": "display_data"
    }
   ],
   "source": [
    "head(meteo)"
   ]
  },
  {
   "cell_type": "code",
   "execution_count": 5,
   "id": "9edc1fd5",
   "metadata": {},
   "outputs": [],
   "source": [
    "# Suppression de la colonne \"Total\"\n",
    "meteo$Total <- NULL"
   ]
  },
  {
   "cell_type": "code",
   "execution_count": 6,
   "id": "0c975b2d",
   "metadata": {},
   "outputs": [
    {
     "data": {
      "text/html": [
       "<table>\n",
       "<thead><tr><th scope=col>Year</th><th scope=col>01</th><th scope=col>02</th><th scope=col>03</th><th scope=col>04</th><th scope=col>05</th><th scope=col>06</th><th scope=col>07</th><th scope=col>08</th><th scope=col>09</th><th scope=col>10</th><th scope=col>11</th><th scope=col>12</th></tr></thead>\n",
       "<tbody>\n",
       "\t<tr><td>2021 </td><td>396.7</td><td>302.8</td><td>271.0</td><td>228.3</td><td>138.3</td><td> 0.0 </td><td> 0.0 </td><td> 0.0 </td><td> 0.0 </td><td>  0.0</td><td>  0.0</td><td>  0.0</td></tr>\n",
       "\t<tr><td>2020 </td><td>339.0</td><td>249.6</td><td>268.6</td><td> 81.4</td><td> 65.7</td><td>20.6 </td><td> 0.9 </td><td> 4.5 </td><td>34.3 </td><td>157.5</td><td>227.2</td><td>336.8</td></tr>\n",
       "\t<tr><td>2019 </td><td>404.9</td><td>268.3</td><td>233.1</td><td>168.5</td><td>117.9</td><td>24.4 </td><td> 0.0 </td><td> 1.7 </td><td>26.7 </td><td>133.7</td><td>282.6</td><td>327.3</td></tr>\n",
       "\t<tr><td>2018 </td><td>303.4</td><td>432.6</td><td>314.3</td><td>119.7</td><td> 55.9</td><td> 8.1 </td><td> 0.0 </td><td> 3.3 </td><td>34.3 </td><td>122.4</td><td>282.5</td><td>325.9</td></tr>\n",
       "\t<tr><td>2017 </td><td>467.9</td><td>278.4</td><td>206.1</td><td>182.6</td><td> 75.0</td><td> 9.4 </td><td> 1.0 </td><td> 6.8 </td><td>62.6 </td><td> 99.4</td><td>282.6</td><td>369.0</td></tr>\n",
       "\t<tr><td>2016 </td><td>364.4</td><td>321.6</td><td>321.1</td><td>212.1</td><td> 88.1</td><td>27.5 </td><td> 5.7 </td><td> 3.2 </td><td>11.7 </td><td>176.0</td><td>285.6</td><td>390.8</td></tr>\n",
       "\t<tr><td>2015 </td><td>392.0</td><td>365.7</td><td>275.5</td><td>141.1</td><td> 91.5</td><td>15.8 </td><td> 6.9 </td><td> 6.1 </td><td>71.9 </td><td>176.9</td><td>195.0</td><td>248.1</td></tr>\n",
       "\t<tr><td>2014 </td><td>324.4</td><td>281.9</td><td>223.9</td><td>135.5</td><td>100.2</td><td>19.1 </td><td> 8.3 </td><td>19.3 </td><td>16.0 </td><td> 92.3</td><td>222.6</td><td>368.2</td></tr>\n",
       "\t<tr><td>2013 </td><td>429.2</td><td>402.2</td><td>376.6</td><td>209.5</td><td>158.4</td><td>43.6 </td><td> 0.6 </td><td> 5.0 </td><td>41.5 </td><td>105.0</td><td>303.9</td><td>349.5</td></tr>\n",
       "\t<tr><td>2012 </td><td>336.0</td><td>435.9</td><td>201.9</td><td>230.3</td><td> 83.3</td><td>35.0 </td><td>12.4 </td><td> 2.4 </td><td>58.0 </td><td>154.6</td><td>296.2</td><td>345.9</td></tr>\n",
       "\t<tr><td>2011 </td><td>392.0</td><td>304.8</td><td>243.1</td><td> 77.6</td><td> 43.4</td><td>31.4 </td><td>15.0 </td><td>11.9 </td><td>23.2 </td><td>127.6</td><td>226.6</td><td>312.7</td></tr>\n",
       "\t<tr><td>2010 </td><td>499.2</td><td>371.4</td><td>294.5</td><td>165.3</td><td>140.9</td><td>22.6 </td><td> 0.0 </td><td>11.1 </td><td>52.3 </td><td>172.2</td><td>310.0</td><td>512.0</td></tr>\n",
       "\t<tr><td>2009 </td><td>486.8</td><td>365.7</td><td>293.2</td><td>135.1</td><td> 82.2</td><td>39.8 </td><td> 3.1 </td><td> 0.9 </td><td>26.9 </td><td>149.6</td><td>224.7</td><td>411.8</td></tr>\n",
       "</tbody>\n",
       "</table>\n"
      ],
      "text/latex": [
       "\\begin{tabular}{r|lllllllllllll}\n",
       " Year & 01 & 02 & 03 & 04 & 05 & 06 & 07 & 08 & 09 & 10 & 11 & 12\\\\\n",
       "\\hline\n",
       "\t 2021  & 396.7 & 302.8 & 271.0 & 228.3 & 138.3 &  0.0  &  0.0  &  0.0  &  0.0  &   0.0 &   0.0 &   0.0\\\\\n",
       "\t 2020  & 339.0 & 249.6 & 268.6 &  81.4 &  65.7 & 20.6  &  0.9  &  4.5  & 34.3  & 157.5 & 227.2 & 336.8\\\\\n",
       "\t 2019  & 404.9 & 268.3 & 233.1 & 168.5 & 117.9 & 24.4  &  0.0  &  1.7  & 26.7  & 133.7 & 282.6 & 327.3\\\\\n",
       "\t 2018  & 303.4 & 432.6 & 314.3 & 119.7 &  55.9 &  8.1  &  0.0  &  3.3  & 34.3  & 122.4 & 282.5 & 325.9\\\\\n",
       "\t 2017  & 467.9 & 278.4 & 206.1 & 182.6 &  75.0 &  9.4  &  1.0  &  6.8  & 62.6  &  99.4 & 282.6 & 369.0\\\\\n",
       "\t 2016  & 364.4 & 321.6 & 321.1 & 212.1 &  88.1 & 27.5  &  5.7  &  3.2  & 11.7  & 176.0 & 285.6 & 390.8\\\\\n",
       "\t 2015  & 392.0 & 365.7 & 275.5 & 141.1 &  91.5 & 15.8  &  6.9  &  6.1  & 71.9  & 176.9 & 195.0 & 248.1\\\\\n",
       "\t 2014  & 324.4 & 281.9 & 223.9 & 135.5 & 100.2 & 19.1  &  8.3  & 19.3  & 16.0  &  92.3 & 222.6 & 368.2\\\\\n",
       "\t 2013  & 429.2 & 402.2 & 376.6 & 209.5 & 158.4 & 43.6  &  0.6  &  5.0  & 41.5  & 105.0 & 303.9 & 349.5\\\\\n",
       "\t 2012  & 336.0 & 435.9 & 201.9 & 230.3 &  83.3 & 35.0  & 12.4  &  2.4  & 58.0  & 154.6 & 296.2 & 345.9\\\\\n",
       "\t 2011  & 392.0 & 304.8 & 243.1 &  77.6 &  43.4 & 31.4  & 15.0  & 11.9  & 23.2  & 127.6 & 226.6 & 312.7\\\\\n",
       "\t 2010  & 499.2 & 371.4 & 294.5 & 165.3 & 140.9 & 22.6  &  0.0  & 11.1  & 52.3  & 172.2 & 310.0 & 512.0\\\\\n",
       "\t 2009  & 486.8 & 365.7 & 293.2 & 135.1 &  82.2 & 39.8  &  3.1  &  0.9  & 26.9  & 149.6 & 224.7 & 411.8\\\\\n",
       "\\end{tabular}\n"
      ],
      "text/markdown": [
       "\n",
       "| Year | 01 | 02 | 03 | 04 | 05 | 06 | 07 | 08 | 09 | 10 | 11 | 12 |\n",
       "|---|---|---|---|---|---|---|---|---|---|---|---|---|\n",
       "| 2021  | 396.7 | 302.8 | 271.0 | 228.3 | 138.3 |  0.0  |  0.0  |  0.0  |  0.0  |   0.0 |   0.0 |   0.0 |\n",
       "| 2020  | 339.0 | 249.6 | 268.6 |  81.4 |  65.7 | 20.6  |  0.9  |  4.5  | 34.3  | 157.5 | 227.2 | 336.8 |\n",
       "| 2019  | 404.9 | 268.3 | 233.1 | 168.5 | 117.9 | 24.4  |  0.0  |  1.7  | 26.7  | 133.7 | 282.6 | 327.3 |\n",
       "| 2018  | 303.4 | 432.6 | 314.3 | 119.7 |  55.9 |  8.1  |  0.0  |  3.3  | 34.3  | 122.4 | 282.5 | 325.9 |\n",
       "| 2017  | 467.9 | 278.4 | 206.1 | 182.6 |  75.0 |  9.4  |  1.0  |  6.8  | 62.6  |  99.4 | 282.6 | 369.0 |\n",
       "| 2016  | 364.4 | 321.6 | 321.1 | 212.1 |  88.1 | 27.5  |  5.7  |  3.2  | 11.7  | 176.0 | 285.6 | 390.8 |\n",
       "| 2015  | 392.0 | 365.7 | 275.5 | 141.1 |  91.5 | 15.8  |  6.9  |  6.1  | 71.9  | 176.9 | 195.0 | 248.1 |\n",
       "| 2014  | 324.4 | 281.9 | 223.9 | 135.5 | 100.2 | 19.1  |  8.3  | 19.3  | 16.0  |  92.3 | 222.6 | 368.2 |\n",
       "| 2013  | 429.2 | 402.2 | 376.6 | 209.5 | 158.4 | 43.6  |  0.6  |  5.0  | 41.5  | 105.0 | 303.9 | 349.5 |\n",
       "| 2012  | 336.0 | 435.9 | 201.9 | 230.3 |  83.3 | 35.0  | 12.4  |  2.4  | 58.0  | 154.6 | 296.2 | 345.9 |\n",
       "| 2011  | 392.0 | 304.8 | 243.1 |  77.6 |  43.4 | 31.4  | 15.0  | 11.9  | 23.2  | 127.6 | 226.6 | 312.7 |\n",
       "| 2010  | 499.2 | 371.4 | 294.5 | 165.3 | 140.9 | 22.6  |  0.0  | 11.1  | 52.3  | 172.2 | 310.0 | 512.0 |\n",
       "| 2009  | 486.8 | 365.7 | 293.2 | 135.1 |  82.2 | 39.8  |  3.1  |  0.9  | 26.9  | 149.6 | 224.7 | 411.8 |\n",
       "\n"
      ],
      "text/plain": [
       "   Year 01    02    03    04    05    06   07   08   09   10    11    12   \n",
       "1  2021 396.7 302.8 271.0 228.3 138.3  0.0  0.0  0.0  0.0   0.0   0.0   0.0\n",
       "2  2020 339.0 249.6 268.6  81.4  65.7 20.6  0.9  4.5 34.3 157.5 227.2 336.8\n",
       "3  2019 404.9 268.3 233.1 168.5 117.9 24.4  0.0  1.7 26.7 133.7 282.6 327.3\n",
       "4  2018 303.4 432.6 314.3 119.7  55.9  8.1  0.0  3.3 34.3 122.4 282.5 325.9\n",
       "5  2017 467.9 278.4 206.1 182.6  75.0  9.4  1.0  6.8 62.6  99.4 282.6 369.0\n",
       "6  2016 364.4 321.6 321.1 212.1  88.1 27.5  5.7  3.2 11.7 176.0 285.6 390.8\n",
       "7  2015 392.0 365.7 275.5 141.1  91.5 15.8  6.9  6.1 71.9 176.9 195.0 248.1\n",
       "8  2014 324.4 281.9 223.9 135.5 100.2 19.1  8.3 19.3 16.0  92.3 222.6 368.2\n",
       "9  2013 429.2 402.2 376.6 209.5 158.4 43.6  0.6  5.0 41.5 105.0 303.9 349.5\n",
       "10 2012 336.0 435.9 201.9 230.3  83.3 35.0 12.4  2.4 58.0 154.6 296.2 345.9\n",
       "11 2011 392.0 304.8 243.1  77.6  43.4 31.4 15.0 11.9 23.2 127.6 226.6 312.7\n",
       "12 2010 499.2 371.4 294.5 165.3 140.9 22.6  0.0 11.1 52.3 172.2 310.0 512.0\n",
       "13 2009 486.8 365.7 293.2 135.1  82.2 39.8  3.1  0.9 26.9 149.6 224.7 411.8"
      ]
     },
     "metadata": {},
     "output_type": "display_data"
    }
   ],
   "source": [
    "colnames(meteo) <- c(\"Year\", \"01\", \"02\", \"03\", \"04\", \"05\", \"06\", \"07\", \"08\", \"09\", \"10\", \"11\", \"12\")\n",
    "meteo"
   ]
  },
  {
   "cell_type": "code",
   "execution_count": 7,
   "id": "8fa7de0e",
   "metadata": {},
   "outputs": [
    {
     "data": {
      "text/html": [
       "<table>\n",
       "<thead><tr><th scope=col>Year</th><th scope=col>values</th><th scope=col>ind</th></tr></thead>\n",
       "<tbody>\n",
       "\t<tr><td>2021 </td><td>396.7</td><td>01   </td></tr>\n",
       "\t<tr><td>2020 </td><td>339.0</td><td>01   </td></tr>\n",
       "\t<tr><td>2019 </td><td>404.9</td><td>01   </td></tr>\n",
       "\t<tr><td>2018 </td><td>303.4</td><td>01   </td></tr>\n",
       "\t<tr><td>2017 </td><td>467.9</td><td>01   </td></tr>\n",
       "\t<tr><td>2016 </td><td>364.4</td><td>01   </td></tr>\n",
       "</tbody>\n",
       "</table>\n"
      ],
      "text/latex": [
       "\\begin{tabular}{r|lll}\n",
       " Year & values & ind\\\\\n",
       "\\hline\n",
       "\t 2021  & 396.7 & 01   \\\\\n",
       "\t 2020  & 339.0 & 01   \\\\\n",
       "\t 2019  & 404.9 & 01   \\\\\n",
       "\t 2018  & 303.4 & 01   \\\\\n",
       "\t 2017  & 467.9 & 01   \\\\\n",
       "\t 2016  & 364.4 & 01   \\\\\n",
       "\\end{tabular}\n"
      ],
      "text/markdown": [
       "\n",
       "| Year | values | ind |\n",
       "|---|---|---|\n",
       "| 2021  | 396.7 | 01    |\n",
       "| 2020  | 339.0 | 01    |\n",
       "| 2019  | 404.9 | 01    |\n",
       "| 2018  | 303.4 | 01    |\n",
       "| 2017  | 467.9 | 01    |\n",
       "| 2016  | 364.4 | 01    |\n",
       "\n"
      ],
      "text/plain": [
       "  Year values ind\n",
       "1 2021 396.7  01 \n",
       "2 2020 339.0  01 \n",
       "3 2019 404.9  01 \n",
       "4 2018 303.4  01 \n",
       "5 2017 467.9  01 \n",
       "6 2016 364.4  01 "
      ]
     },
     "metadata": {},
     "output_type": "display_data"
    }
   ],
   "source": [
    "# Regroupement des colonnes 2 à 13 en une seule colonne et création d'une seconde colonne qui donne le mois correspondant\n",
    "meteo <- cbind(meteo[1],stack(meteo[2:13]))\n",
    "head(meteo)"
   ]
  },
  {
   "cell_type": "code",
   "execution_count": 8,
   "id": "3f7c364f",
   "metadata": {},
   "outputs": [],
   "source": [
    "# Création d'une colonne \"date\" rassemblant l'année et le mois\n",
    "meteo$Mois <- paste(meteo$Year, meteo$ind, sep = \"-\")"
   ]
  },
  {
   "cell_type": "code",
   "execution_count": 9,
   "id": "da16bea4",
   "metadata": {},
   "outputs": [],
   "source": [
    "# Suppression des colonnes \"Year\" et \"ind\"\n",
    "meteo$Year <- NULL\n",
    "meteo$ind <- NULL"
   ]
  },
  {
   "cell_type": "code",
   "execution_count": 10,
   "id": "07ea177a",
   "metadata": {},
   "outputs": [
    {
     "data": {
      "text/html": [
       "<table>\n",
       "<thead><tr><th scope=col>values</th><th scope=col>Mois</th></tr></thead>\n",
       "<tbody>\n",
       "\t<tr><td>396.7  </td><td>2021-01</td></tr>\n",
       "\t<tr><td>339.0  </td><td>2020-01</td></tr>\n",
       "\t<tr><td>404.9  </td><td>2019-01</td></tr>\n",
       "\t<tr><td>303.4  </td><td>2018-01</td></tr>\n",
       "\t<tr><td>467.9  </td><td>2017-01</td></tr>\n",
       "\t<tr><td>364.4  </td><td>2016-01</td></tr>\n",
       "</tbody>\n",
       "</table>\n"
      ],
      "text/latex": [
       "\\begin{tabular}{r|ll}\n",
       " values & Mois\\\\\n",
       "\\hline\n",
       "\t 396.7   & 2021-01\\\\\n",
       "\t 339.0   & 2020-01\\\\\n",
       "\t 404.9   & 2019-01\\\\\n",
       "\t 303.4   & 2018-01\\\\\n",
       "\t 467.9   & 2017-01\\\\\n",
       "\t 364.4   & 2016-01\\\\\n",
       "\\end{tabular}\n"
      ],
      "text/markdown": [
       "\n",
       "| values | Mois |\n",
       "|---|---|\n",
       "| 396.7   | 2021-01 |\n",
       "| 339.0   | 2020-01 |\n",
       "| 404.9   | 2019-01 |\n",
       "| 303.4   | 2018-01 |\n",
       "| 467.9   | 2017-01 |\n",
       "| 364.4   | 2016-01 |\n",
       "\n"
      ],
      "text/plain": [
       "  values Mois   \n",
       "1 396.7  2021-01\n",
       "2 339.0  2020-01\n",
       "3 404.9  2019-01\n",
       "4 303.4  2018-01\n",
       "5 467.9  2017-01\n",
       "6 364.4  2016-01"
      ]
     },
     "metadata": {},
     "output_type": "display_data"
    }
   ],
   "source": [
    "head(meteo)"
   ]
  },
  {
   "cell_type": "markdown",
   "id": "8fe4bddc",
   "metadata": {},
   "source": [
    "## Nettoyage du dataframe de la consommation électrique"
   ]
  },
  {
   "cell_type": "code",
   "execution_count": 11,
   "id": "82c976ca",
   "metadata": {},
   "outputs": [
    {
     "data": {
      "text/html": [
       "<table>\n",
       "<thead><tr><th scope=col>Mois</th><th scope=col>Qualité</th><th scope=col>Territoire</th><th scope=col>Production.totale</th><th scope=col>Production.nucléaire</th><th scope=col>Production.thermique.totale</th><th scope=col>Production.thermique.charbon</th><th scope=col>Production.thermique.fioul</th><th scope=col>Production.thermique.gaz</th><th scope=col>Production.hydraulique</th><th scope=col>...</th><th scope=col>Production.bioénergies</th><th scope=col>Consommation.totale</th><th scope=col>Solde.exportateur</th><th scope=col>Echanges.export</th><th scope=col>Echanges.import</th><th scope=col>Echanges.avec.le.Royaume.Uni</th><th scope=col>Echanges.avec.l.Espagne</th><th scope=col>Echanges.avec.l.Italie</th><th scope=col>Echanges.avec.la.Suisse</th><th scope=col>Echanges.avec.l.Allemagne.et.la.Belgique</th></tr></thead>\n",
       "<tbody>\n",
       "\t<tr><td>2012-01            </td><td>Données définitives</td><td>France             </td><td>57177              </td><td>42811              </td><td>5399               </td><td> 741               </td><td> 691               </td><td>3967               </td><td>6741               </td><td>...                </td><td>514                </td><td>51086              </td><td>5371               </td><td>7043               </td><td>1672               </td><td> 929               </td><td> 724               </td><td>1581               </td><td>2195               </td><td>  -59              </td></tr>\n",
       "\t<tr><td>2012-02            </td><td>Données définitives</td><td>France             </td><td>54419              </td><td>38661              </td><td>8721               </td><td>2511               </td><td>1309               </td><td>4901               </td><td>5244               </td><td>...                </td><td>454                </td><td>54476              </td><td>-715               </td><td>4504               </td><td>5220               </td><td>-798               </td><td>-309               </td><td>1244               </td><td>1579               </td><td>-2430              </td></tr>\n",
       "\t<tr><td>2012-03            </td><td>Données définitives</td><td>France             </td><td>48583              </td><td>37549              </td><td>5276               </td><td>1435               </td><td> 666               </td><td>3175               </td><td>3894               </td><td>...                </td><td>531                </td><td>43156              </td><td>4888               </td><td>7042               </td><td>2153               </td><td> 583               </td><td> 330               </td><td>1742               </td><td>2235               </td><td>   -1              </td></tr>\n",
       "\t<tr><td>2012-04            </td><td>Données définitives</td><td>France             </td><td>44192              </td><td>33100              </td><td>3484               </td><td>1655               </td><td> 486               </td><td>1343               </td><td>5302               </td><td>...                </td><td>405                </td><td>40176              </td><td>3447               </td><td>5762               </td><td>2314               </td><td> 547               </td><td>  -9               </td><td>1271               </td><td>1670               </td><td>  -31              </td></tr>\n",
       "\t<tr><td>2012-05            </td><td>Données définitives</td><td>France             </td><td>40433              </td><td>29058              </td><td>1772               </td><td> 854               </td><td> 368               </td><td> 549               </td><td>7706               </td><td>...                </td><td>469                </td><td>35257              </td><td>4425               </td><td>6391               </td><td>1965               </td><td> 693               </td><td> 251               </td><td>1341               </td><td>1060               </td><td> 1079              </td></tr>\n",
       "\t<tr><td>2012-06            </td><td>Données définitives</td><td>France             </td><td>37518              </td><td>26562              </td><td>2219               </td><td> 960               </td><td> 384               </td><td> 875               </td><td>6823               </td><td>...                </td><td>437                </td><td>33219              </td><td>3648               </td><td>5674               </td><td>2026               </td><td> 447               </td><td> 482               </td><td>1207               </td><td> 599               </td><td>  913              </td></tr>\n",
       "</tbody>\n",
       "</table>\n"
      ],
      "text/latex": [
       "\\begin{tabular}{r|llllllllllllllllllllll}\n",
       " Mois & Qualité & Territoire & Production.totale & Production.nucléaire & Production.thermique.totale & Production.thermique.charbon & Production.thermique.fioul & Production.thermique.gaz & Production.hydraulique & ... & Production.bioénergies & Consommation.totale & Solde.exportateur & Echanges.export & Echanges.import & Echanges.avec.le.Royaume.Uni & Echanges.avec.l.Espagne & Echanges.avec.l.Italie & Echanges.avec.la.Suisse & Echanges.avec.l.Allemagne.et.la.Belgique\\\\\n",
       "\\hline\n",
       "\t 2012-01             & Données définitives & France              & 57177               & 42811               & 5399                &  741                &  691                & 3967                & 6741                & ...                 & 514                 & 51086               & 5371                & 7043                & 1672                &  929                &  724                & 1581                & 2195                &   -59              \\\\\n",
       "\t 2012-02             & Données définitives & France              & 54419               & 38661               & 8721                & 2511                & 1309                & 4901                & 5244                & ...                 & 454                 & 54476               & -715                & 4504                & 5220                & -798                & -309                & 1244                & 1579                & -2430              \\\\\n",
       "\t 2012-03             & Données définitives & France              & 48583               & 37549               & 5276                & 1435                &  666                & 3175                & 3894                & ...                 & 531                 & 43156               & 4888                & 7042                & 2153                &  583                &  330                & 1742                & 2235                &    -1              \\\\\n",
       "\t 2012-04             & Données définitives & France              & 44192               & 33100               & 3484                & 1655                &  486                & 1343                & 5302                & ...                 & 405                 & 40176               & 3447                & 5762                & 2314                &  547                &   -9                & 1271                & 1670                &   -31              \\\\\n",
       "\t 2012-05             & Données définitives & France              & 40433               & 29058               & 1772                &  854                &  368                &  549                & 7706                & ...                 & 469                 & 35257               & 4425                & 6391                & 1965                &  693                &  251                & 1341                & 1060                &  1079              \\\\\n",
       "\t 2012-06             & Données définitives & France              & 37518               & 26562               & 2219                &  960                &  384                &  875                & 6823                & ...                 & 437                 & 33219               & 3648                & 5674                & 2026                &  447                &  482                & 1207                &  599                &   913              \\\\\n",
       "\\end{tabular}\n"
      ],
      "text/markdown": [
       "\n",
       "| Mois | Qualité | Territoire | Production.totale | Production.nucléaire | Production.thermique.totale | Production.thermique.charbon | Production.thermique.fioul | Production.thermique.gaz | Production.hydraulique | ... | Production.bioénergies | Consommation.totale | Solde.exportateur | Echanges.export | Echanges.import | Echanges.avec.le.Royaume.Uni | Echanges.avec.l.Espagne | Echanges.avec.l.Italie | Echanges.avec.la.Suisse | Echanges.avec.l.Allemagne.et.la.Belgique |\n",
       "|---|---|---|---|---|---|---|---|---|---|---|---|---|---|---|---|---|---|---|---|---|\n",
       "| 2012-01             | Données définitives | France              | 57177               | 42811               | 5399                |  741                |  691                | 3967                | 6741                | ...                 | 514                 | 51086               | 5371                | 7043                | 1672                |  929                |  724                | 1581                | 2195                |   -59               |\n",
       "| 2012-02             | Données définitives | France              | 54419               | 38661               | 8721                | 2511                | 1309                | 4901                | 5244                | ...                 | 454                 | 54476               | -715                | 4504                | 5220                | -798                | -309                | 1244                | 1579                | -2430               |\n",
       "| 2012-03             | Données définitives | France              | 48583               | 37549               | 5276                | 1435                |  666                | 3175                | 3894                | ...                 | 531                 | 43156               | 4888                | 7042                | 2153                |  583                |  330                | 1742                | 2235                |    -1               |\n",
       "| 2012-04             | Données définitives | France              | 44192               | 33100               | 3484                | 1655                |  486                | 1343                | 5302                | ...                 | 405                 | 40176               | 3447                | 5762                | 2314                |  547                |   -9                | 1271                | 1670                |   -31               |\n",
       "| 2012-05             | Données définitives | France              | 40433               | 29058               | 1772                |  854                |  368                |  549                | 7706                | ...                 | 469                 | 35257               | 4425                | 6391                | 1965                |  693                |  251                | 1341                | 1060                |  1079               |\n",
       "| 2012-06             | Données définitives | France              | 37518               | 26562               | 2219                |  960                |  384                |  875                | 6823                | ...                 | 437                 | 33219               | 3648                | 5674                | 2026                |  447                |  482                | 1207                |  599                |   913               |\n",
       "\n"
      ],
      "text/plain": [
       "  Mois    Qualité             Territoire Production.totale Production.nucléaire\n",
       "1 2012-01 Données définitives France     57177             42811               \n",
       "2 2012-02 Données définitives France     54419             38661               \n",
       "3 2012-03 Données définitives France     48583             37549               \n",
       "4 2012-04 Données définitives France     44192             33100               \n",
       "5 2012-05 Données définitives France     40433             29058               \n",
       "6 2012-06 Données définitives France     37518             26562               \n",
       "  Production.thermique.totale Production.thermique.charbon\n",
       "1 5399                         741                        \n",
       "2 8721                        2511                        \n",
       "3 5276                        1435                        \n",
       "4 3484                        1655                        \n",
       "5 1772                         854                        \n",
       "6 2219                         960                        \n",
       "  Production.thermique.fioul Production.thermique.gaz Production.hydraulique\n",
       "1  691                       3967                     6741                  \n",
       "2 1309                       4901                     5244                  \n",
       "3  666                       3175                     3894                  \n",
       "4  486                       1343                     5302                  \n",
       "5  368                        549                     7706                  \n",
       "6  384                        875                     6823                  \n",
       "  ... Production.bioénergies Consommation.totale Solde.exportateur\n",
       "1 ... 514                    51086               5371             \n",
       "2 ... 454                    54476               -715             \n",
       "3 ... 531                    43156               4888             \n",
       "4 ... 405                    40176               3447             \n",
       "5 ... 469                    35257               4425             \n",
       "6 ... 437                    33219               3648             \n",
       "  Echanges.export Echanges.import Echanges.avec.le.Royaume.Uni\n",
       "1 7043            1672             929                        \n",
       "2 4504            5220            -798                        \n",
       "3 7042            2153             583                        \n",
       "4 5762            2314             547                        \n",
       "5 6391            1965             693                        \n",
       "6 5674            2026             447                        \n",
       "  Echanges.avec.l.Espagne Echanges.avec.l.Italie Echanges.avec.la.Suisse\n",
       "1  724                    1581                   2195                   \n",
       "2 -309                    1244                   1579                   \n",
       "3  330                    1742                   2235                   \n",
       "4   -9                    1271                   1670                   \n",
       "5  251                    1341                   1060                   \n",
       "6  482                    1207                    599                   \n",
       "  Echanges.avec.l.Allemagne.et.la.Belgique\n",
       "1   -59                                   \n",
       "2 -2430                                   \n",
       "3    -1                                   \n",
       "4   -31                                   \n",
       "5  1079                                   \n",
       "6   913                                   "
      ]
     },
     "metadata": {},
     "output_type": "display_data"
    }
   ],
   "source": [
    "head(elec)"
   ]
  },
  {
   "cell_type": "code",
   "execution_count": 12,
   "id": "4efeefb0",
   "metadata": {},
   "outputs": [],
   "source": [
    "# Restriction au données qui concerne le territoire Français\n",
    "elec <- elec[elec$Territoire == \"France\",]"
   ]
  },
  {
   "cell_type": "code",
   "execution_count": 13,
   "id": "b4d61c5c",
   "metadata": {},
   "outputs": [
    {
     "data": {
      "text/html": [
       "<table>\n",
       "<thead><tr><th scope=col>Mois</th><th scope=col>Consommation.totale</th></tr></thead>\n",
       "<tbody>\n",
       "\t<tr><td>2012-01</td><td>51086  </td></tr>\n",
       "\t<tr><td>2012-02</td><td>54476  </td></tr>\n",
       "\t<tr><td>2012-03</td><td>43156  </td></tr>\n",
       "\t<tr><td>2012-04</td><td>40176  </td></tr>\n",
       "\t<tr><td>2012-05</td><td>35257  </td></tr>\n",
       "\t<tr><td>2012-06</td><td>33219  </td></tr>\n",
       "</tbody>\n",
       "</table>\n"
      ],
      "text/latex": [
       "\\begin{tabular}{r|ll}\n",
       " Mois & Consommation.totale\\\\\n",
       "\\hline\n",
       "\t 2012-01 & 51086  \\\\\n",
       "\t 2012-02 & 54476  \\\\\n",
       "\t 2012-03 & 43156  \\\\\n",
       "\t 2012-04 & 40176  \\\\\n",
       "\t 2012-05 & 35257  \\\\\n",
       "\t 2012-06 & 33219  \\\\\n",
       "\\end{tabular}\n"
      ],
      "text/markdown": [
       "\n",
       "| Mois | Consommation.totale |\n",
       "|---|---|\n",
       "| 2012-01 | 51086   |\n",
       "| 2012-02 | 54476   |\n",
       "| 2012-03 | 43156   |\n",
       "| 2012-04 | 40176   |\n",
       "| 2012-05 | 35257   |\n",
       "| 2012-06 | 33219   |\n",
       "\n"
      ],
      "text/plain": [
       "  Mois    Consommation.totale\n",
       "1 2012-01 51086              \n",
       "2 2012-02 54476              \n",
       "3 2012-03 43156              \n",
       "4 2012-04 40176              \n",
       "5 2012-05 35257              \n",
       "6 2012-06 33219              "
      ]
     },
     "metadata": {},
     "output_type": "display_data"
    }
   ],
   "source": [
    "# Restriction aux colonnes  \"Mois\" et \"Consommation.totale\"\n",
    "elec <- elec %>%\n",
    "  select(Mois, Consommation.totale)\n",
    "head(elec)"
   ]
  },
  {
   "cell_type": "markdown",
   "id": "68be3b49",
   "metadata": {},
   "source": [
    "###  Fusion des dataframes"
   ]
  },
  {
   "cell_type": "code",
   "execution_count": 14,
   "id": "5d19f1f5",
   "metadata": {},
   "outputs": [
    {
     "data": {
      "text/html": [
       "<table>\n",
       "<thead><tr><th scope=col>Mois</th><th scope=col>Consommation.totale</th><th scope=col>values</th></tr></thead>\n",
       "<tbody>\n",
       "\t<tr><td>2012-01</td><td>51086  </td><td>336.0  </td></tr>\n",
       "\t<tr><td>2012-02</td><td>54476  </td><td>435.9  </td></tr>\n",
       "\t<tr><td>2012-03</td><td>43156  </td><td>201.9  </td></tr>\n",
       "\t<tr><td>2012-04</td><td>40176  </td><td>230.3  </td></tr>\n",
       "\t<tr><td>2012-05</td><td>35257  </td><td> 83.3  </td></tr>\n",
       "\t<tr><td>2012-06</td><td>33219  </td><td> 35.0  </td></tr>\n",
       "</tbody>\n",
       "</table>\n"
      ],
      "text/latex": [
       "\\begin{tabular}{r|lll}\n",
       " Mois & Consommation.totale & values\\\\\n",
       "\\hline\n",
       "\t 2012-01 & 51086   & 336.0  \\\\\n",
       "\t 2012-02 & 54476   & 435.9  \\\\\n",
       "\t 2012-03 & 43156   & 201.9  \\\\\n",
       "\t 2012-04 & 40176   & 230.3  \\\\\n",
       "\t 2012-05 & 35257   &  83.3  \\\\\n",
       "\t 2012-06 & 33219   &  35.0  \\\\\n",
       "\\end{tabular}\n"
      ],
      "text/markdown": [
       "\n",
       "| Mois | Consommation.totale | values |\n",
       "|---|---|---|\n",
       "| 2012-01 | 51086   | 336.0   |\n",
       "| 2012-02 | 54476   | 435.9   |\n",
       "| 2012-03 | 43156   | 201.9   |\n",
       "| 2012-04 | 40176   | 230.3   |\n",
       "| 2012-05 | 35257   |  83.3   |\n",
       "| 2012-06 | 33219   |  35.0   |\n",
       "\n"
      ],
      "text/plain": [
       "  Mois    Consommation.totale values\n",
       "1 2012-01 51086               336.0 \n",
       "2 2012-02 54476               435.9 \n",
       "3 2012-03 43156               201.9 \n",
       "4 2012-04 40176               230.3 \n",
       "5 2012-05 35257                83.3 \n",
       "6 2012-06 33219                35.0 "
      ]
     },
     "metadata": {},
     "output_type": "display_data"
    }
   ],
   "source": [
    "# Association des deux dataframes par la colonne \"Mois\n",
    "data <- merge(elec, meteo, by = \"Mois\")\n",
    "head(data)"
   ]
  },
  {
   "cell_type": "code",
   "execution_count": 15,
   "id": "93ac9d31",
   "metadata": {},
   "outputs": [
    {
     "data": {
      "text/html": [
       "<table>\n",
       "<thead><tr><th scope=col>Mois</th><th scope=col>Consommation.totale</th><th scope=col>values</th></tr></thead>\n",
       "<tbody>\n",
       "\t<tr><td>2012-01-01</td><td>51086     </td><td>336.0     </td></tr>\n",
       "\t<tr><td>2012-02-01</td><td>54476     </td><td>435.9     </td></tr>\n",
       "\t<tr><td>2012-03-01</td><td>43156     </td><td>201.9     </td></tr>\n",
       "\t<tr><td>2012-04-01</td><td>40176     </td><td>230.3     </td></tr>\n",
       "\t<tr><td>2012-05-01</td><td>35257     </td><td> 83.3     </td></tr>\n",
       "\t<tr><td>2012-06-01</td><td>33219     </td><td> 35.0     </td></tr>\n",
       "</tbody>\n",
       "</table>\n"
      ],
      "text/latex": [
       "\\begin{tabular}{r|lll}\n",
       " Mois & Consommation.totale & values\\\\\n",
       "\\hline\n",
       "\t 2012-01-01 & 51086      & 336.0     \\\\\n",
       "\t 2012-02-01 & 54476      & 435.9     \\\\\n",
       "\t 2012-03-01 & 43156      & 201.9     \\\\\n",
       "\t 2012-04-01 & 40176      & 230.3     \\\\\n",
       "\t 2012-05-01 & 35257      &  83.3     \\\\\n",
       "\t 2012-06-01 & 33219      &  35.0     \\\\\n",
       "\\end{tabular}\n"
      ],
      "text/markdown": [
       "\n",
       "| Mois | Consommation.totale | values |\n",
       "|---|---|---|\n",
       "| 2012-01-01 | 51086      | 336.0      |\n",
       "| 2012-02-01 | 54476      | 435.9      |\n",
       "| 2012-03-01 | 43156      | 201.9      |\n",
       "| 2012-04-01 | 40176      | 230.3      |\n",
       "| 2012-05-01 | 35257      |  83.3      |\n",
       "| 2012-06-01 | 33219      |  35.0      |\n",
       "\n"
      ],
      "text/plain": [
       "  Mois       Consommation.totale values\n",
       "1 2012-01-01 51086               336.0 \n",
       "2 2012-02-01 54476               435.9 \n",
       "3 2012-03-01 43156               201.9 \n",
       "4 2012-04-01 40176               230.3 \n",
       "5 2012-05-01 35257                83.3 \n",
       "6 2012-06-01 33219                35.0 "
      ]
     },
     "metadata": {},
     "output_type": "display_data"
    }
   ],
   "source": [
    "# Ajout de \"-01\" pour adapter la colonne \"Mois\" au format Date\n",
    "data$Mois <- paste(data$Mois, '-01', sep=\"\")\n",
    "\n",
    "# Conversion de la colonne \"Mois\" au format Date\n",
    "data$Mois <- as.Date(data$Mois, format=\"%Y-%m-%d\")\n",
    "head(data)"
   ]
  },
  {
   "cell_type": "code",
   "execution_count": 16,
   "id": "f6476d9f",
   "metadata": {},
   "outputs": [
    {
     "data": {
      "text/html": [
       "<table>\n",
       "<thead><tr><th scope=col>Mois</th><th scope=col>Consommation.totale</th><th scope=col>values</th></tr></thead>\n",
       "<tbody>\n",
       "</tbody>\n",
       "</table>\n"
      ],
      "text/latex": [
       "\\begin{tabular}{r|lll}\n",
       " Mois & Consommation.totale & values\\\\\n",
       "\\hline\n",
       "\\end{tabular}\n"
      ],
      "text/markdown": [
       "\n",
       "| Mois | Consommation.totale | values |\n",
       "|---|---|---|\n",
       "\n"
      ],
      "text/plain": [
       "     Mois Consommation.totale values"
      ]
     },
     "metadata": {},
     "output_type": "display_data"
    }
   ],
   "source": [
    "# Identification des valeurs manquantes\n",
    "data[!complete.cases(data),]"
   ]
  },
  {
   "cell_type": "code",
   "execution_count": 17,
   "id": "990e2122",
   "metadata": {},
   "outputs": [],
   "source": [
    "# Changement de nom des colonnes\n",
    "data <- rename(data, \"conso_elec\" = \"Consommation.totale\")\n",
    "data <- rename(data, \"DJU\" =  \"values\")"
   ]
  },
  {
   "cell_type": "code",
   "execution_count": 18,
   "id": "c8fdada4",
   "metadata": {},
   "outputs": [
    {
     "data": {
      "image/png": "[encoded data removed]",
      "text/plain": [
       "plot without title"
      ]
     },
     "metadata": {},
     "output_type": "display_data"
    }
   ],
   "source": [
    "# Représentation graphique\n",
    "plot(data$Mois, data$conso_elec,type=\"l\", xlab=\"Année\", ylab=\"Consommation électrique\")"
   ]
  },
  {
   "cell_type": "code",
   "execution_count": 19,
   "id": "cf76b57c",
   "metadata": {},
   "outputs": [
    {
     "data": {
      "image/png": "[encoded data removed]",
      "text/plain": [
       "plot without title"
      ]
     },
     "metadata": {},
     "output_type": "display_data"
    }
   ],
   "source": [
    "plot(data$Mois, data$DJU, type=\"l\", xlab=\"Année\", ylab=\"Degrés jour unifié\")"
   ]
  },
  {
   "cell_type": "markdown",
   "id": "d2cc5336",
   "metadata": {},
   "source": [
    "On observe sur chacun des graphiques une saisonnalité de période 12. Le graphique dédié aux degrés jour unifié présente des pics mensuels situés entre 350 et 450 en périodes d'hiver et des creux proches de 0 en périodes estivales. Cela signifie que l'écart négatif journalier avec la température de référence de 18°C atteint une somme mensuelle qui varie entre 0°C (lorsque chaque jour d'un mois est supérieur à 19°C) et 450°C.\n",
    "\n",
    "La courbe de consommation électrique montre des oscillations entre des pics qu'on situe autour de 50-60 000 terawatt-heure (TWh) par mois et des creux autour de 30-35 000 TWh mensuel pendant les périodes estivales. La saisonnalité justifie donc en France une augmentation de la consommation électrique de presque 100% entre l'été et l'hiver. Cela s'explique notamment par une diminution des températures et donc une plus grande consommation de chauffage, mais aussi par un raccourcissement des périodes d'ensoleillement et donc une plus forte utilisation des dispositifs d'éclairage.\n",
    "\n",
    "D'une année à l'autre, on observe des variations assez similaires de part et d'autre des graphiques. L'hiver 2017 présente ainsi le pic à la fois le plus étroit et le plus haut, tant en degrés de jour unifié qu'en consommation électrique. Janvier 2017 a en effet présenté une température moyenne de 2°C en dessous des normales saisonnières, tandis que février 2017 a au contraire été particulièrement doux avec une moyenne de +2°C par rapport aux températures habituelles.\n",
    "\n",
    "L'hiver 2018 présente également la spécificité d'un double pic, suggérant des variations de température importantes. L'historique des conditions météorologiques en France confirme en effet que le mois de janvier 2018 a été particulièrement doux, présentant un excédent de 3,3°C par rapport aux normales saisonnières.\n",
    "\n",
    "Quelques différences mineures, cependant, peuvent être constatées entre les deux graphiques. Les creux de consommation électrique sont en effet moins homogènes que les creux des températures. On constate en effet un petit regain de consommation d'énergie lorsque les températures sont uniformément supérieures à 18°C. Cette brève élévation de la consommation pourrait par exemple s'expliquer par une utilisation des dispositifs d'air conditionné pour compenser les fortes hausses de chaleur.\n",
    "\n",
    "La série temporelle est de type additif car l'amplitude des variations est relativement constante d'une année à l'autre. A cette échelle, nous n'observons ni croissance ni décroissance de la tendance. Dans le cas où l'amplitude des variations varierait significativement, nous parlerions alors de modèle multiplicatif. Il ne sera donc pas nécessaire de convertir nos données au format logarithmique."
   ]
  },
  {
   "cell_type": "markdown",
   "id": "a5636378",
   "metadata": {},
   "source": [
    "### Relation entre la consommation électrique (x) et les degrés de jour unifié relevés (y)"
   ]
  },
  {
   "cell_type": "code",
   "execution_count": 20,
   "id": "525bc03c",
   "metadata": {},
   "outputs": [
    {
     "data": {
      "image/png": "[encoded data removed]",
      "text/plain": [
       "plot without title"
      ]
     },
     "metadata": {},
     "output_type": "display_data"
    }
   ],
   "source": [
    "# Relation entre consommation électrique et degrés de jour unifié\n",
    "plot(x = data$conso_elec, y = data$DJU, xlab = \"Consommation électrique\", ylab = \"Degrés jour unifié\")"
   ]
  },
  {
   "cell_type": "markdown",
   "id": "999d4bc7",
   "metadata": {},
   "source": [
    "On observe une corrélation relativement linéaire entre la consommation électrique et les degrés jour unifié (DJU) relevés. \n",
    "Quelques outliers peuvent s'observer notamment à 0 en ordonnée. Cette surconsommation électrique est probablement liée aux fortes chaleurs qui ne sont pas prises en compte dans la mesure des DJU et entraînent souvent une utilisation des appareils de refroidissement."
   ]
  },
  {
   "cell_type": "code",
   "execution_count": 21,
   "id": "21fc4091",
   "metadata": {},
   "outputs": [
    {
     "data": {
      "text/plain": [
       "\n",
       "Call:\n",
       "lm(formula = data$conso_elec ~ data$DJU)\n",
       "\n",
       "Residuals:\n",
       "    Min      1Q  Median      3Q     Max \n",
       "-4757.6 -1044.0  -146.2  1174.1  5291.4 \n",
       "\n",
       "Coefficients:\n",
       "             Estimate Std. Error t value Pr(>|t|)    \n",
       "(Intercept) 31474.561    255.457  123.21   <2e-16 ***\n",
       "data$DJU       48.314      1.166   41.42   <2e-16 ***\n",
       "---\n",
       "Signif. codes:  0 '***' 0.001 '**' 0.01 '*' 0.05 '.' 0.1 ' ' 1\n",
       "\n",
       "Residual standard error: 1786 on 116 degrees of freedom\n",
       "Multiple R-squared:  0.9367,\tAdjusted R-squared:  0.9361 \n",
       "F-statistic:  1716 on 1 and 116 DF,  p-value: < 2.2e-16\n"
      ]
     },
     "metadata": {},
     "output_type": "display_data"
    }
   ],
   "source": [
    "# Régression linéaire de la consommation sur les degrés de jour unifié\n",
    "reg=lm(data$conso_elec~data$DJU)\n",
    "summary(reg)"
   ]
  },
  {
   "cell_type": "markdown",
   "id": "48b002b1",
   "metadata": {},
   "source": [
    "Le modèle est plutôt de bonne qualité avec un coefficient de détermination R² de 0.936. La p-valeur est inférieure au seuil de 0,05. Notre régression pésente donc a priori des résultats statistiquement signficatifs.\n",
    "\n",
    "Source: <https://rug.mnhn.fr/semin-r/PDF/semin-R_lm_SBallesteros_110308.pdf>"
   ]
  },
  {
   "cell_type": "code",
   "execution_count": 22,
   "id": "4625f37d",
   "metadata": {
    "scrolled": false
   },
   "outputs": [
    {
     "data": {
      "image/png": "[encoded data removed]",
      "text/plain": [
       "Plot with title \"\""
      ]
     },
     "metadata": {},
     "output_type": "display_data"
    },
    {
     "data": {
      "image/png": "[encoded data removed]",
      "text/plain": [
       "Plot with title \"\""
      ]
     },
     "metadata": {},
     "output_type": "display_data"
    },
    {
     "data": {
      "image/png": "[encoded data removed]",
      "text/plain": [
       "Plot with title \"\""
      ]
     },
     "metadata": {},
     "output_type": "display_data"
    },
    {
     "data": {
      "image/png": "[encoded data removed]",
      "text/plain": [
       "Plot with title \"\""
      ]
     },
     "metadata": {},
     "output_type": "display_data"
    }
   ],
   "source": [
    "# Représentation graphique des résidus\n",
    "plot(reg)"
   ]
  },
  {
   "cell_type": "markdown",
   "id": "e2a800d0",
   "metadata": {},
   "source": [
    "Residuals vs fitted: Les résidus suivent une ligne légèrement courbée le long de la valeur 0. A l'exception de quelques valeurs (100, 112, 118), les résidus forment une bande le long de la ligne et suggèrent que nos deux variables ont une relation linéaire.\n",
    "\n",
    "Normal QQ: Les résidus semblent suivre une loi normale, à l'exception des mêmes valeurs extrêmes identifiées précédemment.\n",
    "\n",
    "Residual vs Leverage: Influence des résidus mesurée par la distance de Cook\n",
    "\n",
    "Standardized residuals: écart standardisé entre la valeur prédite et la valeur observée. Nous voyons que les points 61, 85 et 118 ont une forte influence sur le modèle."
   ]
  },
  {
   "cell_type": "code",
   "execution_count": 23,
   "id": "73e1b029",
   "metadata": {},
   "outputs": [
    {
     "data": {
      "text/html": [
       "<table>\n",
       "<thead><tr><th scope=col>Mois</th><th scope=col>conso_elec</th><th scope=col>DJU</th><th scope=col>conso_correc</th></tr></thead>\n",
       "<tbody>\n",
       "\t<tr><td>2012-01-01</td><td>51086     </td><td>336.0     </td><td>34852.63  </td></tr>\n",
       "\t<tr><td>2012-02-01</td><td>54476     </td><td>435.9     </td><td>33416.10  </td></tr>\n",
       "\t<tr><td>2012-03-01</td><td>43156     </td><td>201.9     </td><td>33401.48  </td></tr>\n",
       "\t<tr><td>2012-04-01</td><td>40176     </td><td>230.3     </td><td>29049.38  </td></tr>\n",
       "\t<tr><td>2012-05-01</td><td>35257     </td><td> 83.3     </td><td>31232.48  </td></tr>\n",
       "\t<tr><td>2012-06-01</td><td>33219     </td><td> 35.0     </td><td>31528.02  </td></tr>\n",
       "</tbody>\n",
       "</table>\n"
      ],
      "text/latex": [
       "\\begin{tabular}{r|llll}\n",
       " Mois & conso\\_elec & DJU & conso\\_correc\\\\\n",
       "\\hline\n",
       "\t 2012-01-01 & 51086      & 336.0      & 34852.63  \\\\\n",
       "\t 2012-02-01 & 54476      & 435.9      & 33416.10  \\\\\n",
       "\t 2012-03-01 & 43156      & 201.9      & 33401.48  \\\\\n",
       "\t 2012-04-01 & 40176      & 230.3      & 29049.38  \\\\\n",
       "\t 2012-05-01 & 35257      &  83.3      & 31232.48  \\\\\n",
       "\t 2012-06-01 & 33219      &  35.0      & 31528.02  \\\\\n",
       "\\end{tabular}\n"
      ],
      "text/markdown": [
       "\n",
       "| Mois | conso_elec | DJU | conso_correc |\n",
       "|---|---|---|---|\n",
       "| 2012-01-01 | 51086      | 336.0      | 34852.63   |\n",
       "| 2012-02-01 | 54476      | 435.9      | 33416.10   |\n",
       "| 2012-03-01 | 43156      | 201.9      | 33401.48   |\n",
       "| 2012-04-01 | 40176      | 230.3      | 29049.38   |\n",
       "| 2012-05-01 | 35257      |  83.3      | 31232.48   |\n",
       "| 2012-06-01 | 33219      |  35.0      | 31528.02   |\n",
       "\n"
      ],
      "text/plain": [
       "  Mois       conso_elec DJU   conso_correc\n",
       "1 2012-01-01 51086      336.0 34852.63    \n",
       "2 2012-02-01 54476      435.9 33416.10    \n",
       "3 2012-03-01 43156      201.9 33401.48    \n",
       "4 2012-04-01 40176      230.3 29049.38    \n",
       "5 2012-05-01 35257       83.3 31232.48    \n",
       "6 2012-06-01 33219       35.0 31528.02    "
      ]
     },
     "metadata": {},
     "output_type": "display_data"
    }
   ],
   "source": [
    "# calcul de la consommation d'électricité corrigée\n",
    "data$conso_correc <- data$conso_elec - (reg$coefficients[2] * data$DJU)\n",
    "head(data)"
   ]
  },
  {
   "cell_type": "code",
   "execution_count": 24,
   "id": "5b80658d",
   "metadata": {},
   "outputs": [],
   "source": [
    "# Suppression de la variable DJU\n",
    "data$DJU <- NULL"
   ]
  },
  {
   "cell_type": "code",
   "execution_count": 25,
   "id": "d26bab18",
   "metadata": {},
   "outputs": [],
   "source": [
    "# Création de la série temporelle\n",
    "ts_data <- ts(data[, 2:3], start = c(2012, 1), frequency = 12)"
   ]
  },
  {
   "cell_type": "code",
   "execution_count": 26,
   "id": "fb6dd120",
   "metadata": {},
   "outputs": [
    {
     "data": {
      "image/png": "[encoded data removed]",
      "text/plain": [
       "plot without title"
      ]
     },
     "metadata": {},
     "output_type": "display_data"
    }
   ],
   "source": [
    "# Représentation de la consommation totale et de la consommation corrigée\n",
    "autoplot(ts_data, facets=FALSE)"
   ]
  },
  {
   "cell_type": "markdown",
   "id": "182e7877",
   "metadata": {},
   "source": [
    "Nous observons que la consommation corrigée ne suit pas la même saisonnalité que la courbe de la consommation électrique. La consommation corrigée met en évidence les écarts aux valeurs saisonnières habituelles. Le début de l'année 2020 montre par exemple une consommation corrigée particulièrement faible, qui s'explique notamment par le 1er confinement de la pandémie du Covid-19 qui a entraîné une baisse significative de l'activité économique. En revanche, la fin 2020 montre une surconsommation particulièrement inhabituelle. "
   ]
  },
  {
   "cell_type": "code",
   "execution_count": 27,
   "id": "16254f2a",
   "metadata": {},
   "outputs": [
    {
     "data": {
      "image/png": "[encoded data removed]",
      "text/plain": [
       "plot without title"
      ]
     },
     "metadata": {},
     "output_type": "display_data"
    }
   ],
   "source": [
    "# Superposition graphique avec des échelles différentes\n",
    "autoplot(ts_data, facets=TRUE)"
   ]
  },
  {
   "cell_type": "code",
   "execution_count": 28,
   "id": "537e83c8",
   "metadata": {},
   "outputs": [
    {
     "data": {
      "image/png": "[encoded data removed]",
      "text/plain": [
       "plot without title"
      ]
     },
     "metadata": {},
     "output_type": "display_data"
    }
   ],
   "source": [
    "# Graphique saisonnier de la consommation corrigée\n",
    "ggseasonplot(ts_data[,2], polar=TRUE)"
   ]
  },
  {
   "cell_type": "markdown",
   "id": "34e46f04",
   "metadata": {},
   "source": [
    "Le graphique confirme que la consommation corrigée maintient un caractère saisonnier car ses pics (notamment en Juillet, Janviet et Mars) sont réguliers."
   ]
  },
  {
   "cell_type": "code",
   "execution_count": 30,
   "id": "14fb2667",
   "metadata": {},
   "outputs": [
    {
     "data": {
      "image/png": "[encoded data removed]",
      "text/plain": [
       "plot without title"
      ]
     },
     "metadata": {},
     "output_type": "display_data"
    }
   ],
   "source": [
    "# Décomposition de la consommation corrigée en composantes de saison, de résidus et de tendance (par les moyennes mobiles)\n",
    "decomp_correc=decompose(ts_data[,2],type=\"additive\")\n",
    "autoplot(decomp_correc, facets=TRUE)"
   ]
  },
  {
   "cell_type": "markdown",
   "id": "ff266767",
   "metadata": {},
   "source": [
    "La courbe de tendance (\"trend\") confirme la relative stabilité de la consommation électrique observée jusqu'en 2019, suivie d'une nette baisse en 2020 que nous avons précédemment attribuée à la baisse de l'activité occasionnée par la pandémie du Covid-19.\n",
    "\n",
    "La courbe saisonnière quant à elle montre qu'un cycle saisonnier s'est maintenu malgré la correction prenant en compte les degrés de jour unifié.\n",
    "\n",
    "Nous observons cependant que cette saisonnalité n'est pas annuelle mais plutôt semestrielle. Nous constatons en effet des valeurs extrêmes plus fréquemment que sur la courbe de la consommation électrique totale. Les valeurs hautes s'observent plutôt en hiver et en été, tandis que les valeurs basses se manifestent plutôt au printemps. Il semblerait qu'à température égale, la baisse de la consommation électrique soit plus significative au printemps qu'en automne."
   ]
  },
  {
   "cell_type": "code",
   "execution_count": 31,
   "id": "483e2f8c",
   "metadata": {},
   "outputs": [
    {
     "data": {
      "text/html": [
       "<dl class=dl-horizontal>\n",
       "\t<dt>conso_elec</dt>\n",
       "\t\t<dd>17.8571698855514</dd>\n",
       "\t<dt>conso_correc</dt>\n",
       "\t\t<dd>5.65020805046136</dd>\n",
       "</dl>\n"
      ],
      "text/latex": [
       "\\begin{description*}\n",
       "\\item[conso\\textbackslash{}\\_elec] 17.8571698855514\n",
       "\\item[conso\\textbackslash{}\\_correc] 5.65020805046136\n",
       "\\end{description*}\n"
      ],
      "text/markdown": [
       "conso_elec\n",
       ":   17.8571698855514conso_correc\n",
       ":   5.65020805046136\n",
       "\n"
      ],
      "text/plain": [
       "  conso_elec conso_correc \n",
       "   17.857170     5.650208 "
      ]
     },
     "metadata": {},
     "output_type": "display_data"
    },
    {
     "data": {
      "text/html": [
       "<strong>conso_correc:</strong> 31.6411171908773"
      ],
      "text/latex": [
       "\\textbf{conso\\textbackslash{}\\_correc:} 31.6411171908773"
      ],
      "text/markdown": [
       "**conso_correc:** 31.6411171908773"
      ],
      "text/plain": [
       "conso_correc \n",
       "    31.64112 "
      ]
     },
     "metadata": {},
     "output_type": "display_data"
    }
   ],
   "source": [
    "# Coefficients de variation de chaque variable\n",
    "coef_var <- sapply(data[,2:3], function(x) sd(x) / mean(x) * 100)\n",
    "coef_var\n",
    "\n",
    "\n",
    "# coefficient de variation corrigé par rapport à la consommation électrique totale\n",
    "coef_var[2]/coef_var[1]*100"
   ]
  },
  {
   "cell_type": "markdown",
   "id": "086b38e8",
   "metadata": {},
   "source": [
    "Le coefficient de variation de la consommation électrique est bien supérieur au coefficient de variation de la consommation électrique corrigée. La consommation corrigée a en effet un coefficient de variation égale à 31.6% de la consommation totale. On peut en déduire que la consommation corrigée est moins déterminée par la saisonnalité que la série de la consommation électrique et contribuera mieux à un modèle de prédiction."
   ]
  },
  {
   "cell_type": "code",
   "execution_count": 32,
   "id": "10928a05",
   "metadata": {},
   "outputs": [
    {
     "data": {
      "image/png": "[encoded data removed]",
      "text/plain": [
       "plot without title"
      ]
     },
     "metadata": {},
     "output_type": "display_data"
    }
   ],
   "source": [
    "# Tendance de la consommation corrigée, calculée par moyennes mobiles\n",
    "plot(decomp_correc$trend, type = \"l\")"
   ]
  },
  {
   "cell_type": "code",
   "execution_count": 33,
   "id": "57d8056a",
   "metadata": {},
   "outputs": [
    {
     "data": {
      "text/html": [
       "2.57441669637487"
      ],
      "text/latex": [
       "2.57441669637487"
      ],
      "text/markdown": [
       "2.57441669637487"
      ],
      "text/plain": [
       "[1] 2.574417"
      ]
     },
     "metadata": {},
     "output_type": "display_data"
    }
   ],
   "source": [
    "# Taux de variation maximal sur la période 2012-2018\n",
    "var_1 = window(decomp_correc$trend, start=c(2012,1), end=c(2018,1))\n",
    "max((na.omit(var_1)) - min(na.omit(var_1))) / min(na.omit(var_1))*100"
   ]
  },
  {
   "cell_type": "markdown",
   "id": "fcfb1e94",
   "metadata": {},
   "source": [
    "Entre 2012 et 2018, la consommation électrique corrigée et désaisonnalisée a connu une variation maximale de 2.57% de sa valeur"
   ]
  },
  {
   "cell_type": "code",
   "execution_count": 34,
   "id": "cc2ed500",
   "metadata": {},
   "outputs": [
    {
     "data": {
      "text/html": [
       "6.62806860225931"
      ],
      "text/latex": [
       "6.62806860225931"
      ],
      "text/markdown": [
       "6.62806860225931"
      ],
      "text/plain": [
       "[1] 6.628069"
      ]
     },
     "metadata": {},
     "output_type": "display_data"
    }
   ],
   "source": [
    "# Taux de variation maximal sur la période 2018-2021\n",
    "var_2 = window(decomp_correc$trend, start=c(2018,1), end=c(2021,2))\n",
    "max((na.omit(var_2)) - min(na.omit(var_2))) / min(na.omit(var_2))*100"
   ]
  },
  {
   "cell_type": "markdown",
   "id": "59068cac",
   "metadata": {},
   "source": [
    "Entre 2018 et 2021, soit une période deux fois plus courte que la précédente, la consommation électrique corrigée et désaisonnalisée a connu une variation maximale de 6.63% de sa valeur. Nous constatons donc un écart majeur entre ces deux périodes."
   ]
  },
  {
   "cell_type": "code",
   "execution_count": 35,
   "id": "f327a897",
   "metadata": {},
   "outputs": [
    {
     "name": "stderr",
     "output_type": "stream",
     "text": [
      "Warning message in modeldf.default(object):\n",
      "\"Could not find appropriate degrees of freedom for this model.\""
     ]
    },
    {
     "data": {
      "image/png": "[encoded data removed]",
      "text/plain": [
       "plot without title"
      ]
     },
     "metadata": {},
     "output_type": "display_data"
    }
   ],
   "source": [
    "# Analyse des résidus\n",
    "checkresiduals(remainder(decomp_correc))"
   ]
  },
  {
   "cell_type": "markdown",
   "id": "2069effe",
   "metadata": {},
   "source": [
    "La courbe des résidus confirme le caractère exceptionnel des valeurs observées au début de l'année 2020.\n",
    "Enfin, il est probable que les résidus suivent une loi normale, ce qui valide notre régression."
   ]
  },
  {
   "cell_type": "code",
   "execution_count": 36,
   "id": "649d4e85",
   "metadata": {},
   "outputs": [
    {
     "data": {
      "text/plain": [
       "\n",
       "\tBox-Ljung test\n",
       "\n",
       "data:  decomp_correc$random\n",
       "X-squared = 0.88906, df = 1, p-value = 0.3457\n"
      ]
     },
     "metadata": {},
     "output_type": "display_data"
    }
   ],
   "source": [
    "# Test de Ljung Box sur les résidus\n",
    "Box.test(decomp_correc$random,lag=1, type = \"Ljung-Box\")"
   ]
  },
  {
   "cell_type": "markdown",
   "id": "7cccd068",
   "metadata": {},
   "source": [
    "L'hypothèse nulle HO stipule qu'il n'y a pas d'auto-corrélation des résidus. Le test de significativité des paramètres des résidus (p-value) sont validés au niveau 5%. On ne peut donc pas en déduire que les résidus sont indépendants entre eux.\n",
    "\n",
    "\n",
    "source: <https://stats.stackexchange.com/questions/64711/ljung-box-statistics-for-arima-residuals-in-r-confusing-test-results>"
   ]
  },
  {
   "cell_type": "code",
   "execution_count": 37,
   "id": "3b4e9bd6",
   "metadata": {},
   "outputs": [
    {
     "data": {
      "text/plain": [
       "\n",
       "\tShapiro-Wilk normality test\n",
       "\n",
       "data:  decomp_correc$random\n",
       "W = 0.99068, p-value = 0.6827\n"
      ]
     },
     "metadata": {},
     "output_type": "display_data"
    }
   ],
   "source": [
    "# Test de normalité Shapiro-Wilk\n",
    "shapiro.test(decomp_correc$random)"
   ]
  },
  {
   "cell_type": "markdown",
   "id": "e796194f",
   "metadata": {},
   "source": [
    "L'hypothèse H0 est ici que nos résidus suivent une loi normale. Avec une p-valeur supérieure à 0,05, H0 n'est donc pas rejetée et on peut en conclure que les résidus suivent une loi normale.\n",
    "La normalité des résidus et leur absence d'auto-corrélation suggère que le lissage exponentielle de Holt-Winters est un bon moyen de modéliser la prédiction de notre série temporelle."
   ]
  },
  {
   "cell_type": "markdown",
   "id": "defd6ede",
   "metadata": {},
   "source": [
    "### Méthode Holt-Winters"
   ]
  },
  {
   "cell_type": "code",
   "execution_count": 38,
   "id": "28fd7abb",
   "metadata": {},
   "outputs": [
    {
     "data": {
      "text/plain": [
       "Holt-Winters exponential smoothing with trend and additive seasonal component.\n",
       "\n",
       "Call:\n",
       "HoltWinters(x = ts_data[, 2], seasonal = \"additive\")\n",
       "\n",
       "Smoothing parameters:\n",
       " alpha: 0.1735066\n",
       " beta : 0.008432095\n",
       " gamma: 0.2972495\n",
       "\n",
       "Coefficients:\n",
       "            [,1]\n",
       "a   31749.526416\n",
       "b      -8.412883\n",
       "s1  -1032.271010\n",
       "s2    931.980824\n",
       "s3   2747.337723\n",
       "s4   -919.474914\n",
       "s5    157.431692\n",
       "s6  -2577.586157\n",
       "s7  -1533.067753\n",
       "s8    707.403236\n",
       "s9   2772.726322\n",
       "s10   598.735554\n",
       "s11   393.733833\n",
       "s12  1280.285294"
      ]
     },
     "metadata": {},
     "output_type": "display_data"
    }
   ],
   "source": [
    "# Ajustement automatique avec la fonction HoltWinters\n",
    "HW1 <- HoltWinters(ts_data[,2], seasonal = \"additive\")\n",
    "HW1"
   ]
  },
  {
   "cell_type": "markdown",
   "id": "acb4f2e3",
   "metadata": {},
   "source": [
    "Dans la modélisation automatique de Holt Winters:\n",
    "alpha (valeur) = 0.173\n",
    "beta (tendance) = 0.008\n",
    "gamma (saisonnalité) = 0.297\n",
    "\n",
    "La valeur alpha (0.17) indique que notre modèle détermine son niveau grâce à une part très marginale des observations récentes. \n",
    "La tendance exprimée par la valeur beta (0.008) est proche de 0. On peut en déduire que la tendance a été très peu modifiée par les observations récentes.\n",
    "La valeur gamma est la plus élevée des valeurs relevées par notre modèle (0.297) signifie que sa saisonnalité est partiellement déterminée par les observations récentes."
   ]
  },
  {
   "cell_type": "code",
   "execution_count": 39,
   "id": "66218696",
   "metadata": {},
   "outputs": [
    {
     "data": {
      "text/plain": [
       "             Length Class  Mode     \n",
       "fitted       424    mts    numeric  \n",
       "x            118    ts     numeric  \n",
       "alpha          1    -none- numeric  \n",
       "beta           1    -none- numeric  \n",
       "gamma          1    -none- numeric  \n",
       "coefficients  14    -none- numeric  \n",
       "seasonal       1    -none- character\n",
       "SSE            1    -none- numeric  \n",
       "call           3    -none- call     "
      ]
     },
     "metadata": {},
     "output_type": "display_data"
    }
   ],
   "source": [
    "summary(HW1)"
   ]
  },
  {
   "cell_type": "code",
   "execution_count": 40,
   "id": "e2eae7a8",
   "metadata": {},
   "outputs": [
    {
     "data": {
      "image/png": "[encoded data removed]",
      "text/plain": [
       "plot without title"
      ]
     },
     "metadata": {},
     "output_type": "display_data"
    }
   ],
   "source": [
    "# Consommation électrique et prédiction sur un an entre 2020 et 2021 par la méthode Holt-Winters\n",
    "plot(ts_data[,2], ylab=\"Consommation électrique\")\n",
    "lines(window(HW1$fitted[,1], start=c(2020,10), end=c(2021,10)), lty=2, col=\"red\")"
   ]
  },
  {
   "cell_type": "markdown",
   "id": "a16ff9b7",
   "metadata": {},
   "source": [
    "Il semblerait que la méthode Holt-Winters parvient à prédire assez bien la tendance. Les pics reproduits (en rouge) correspondent dans une certaine mesure à la réalité observée, sauf pour le dernier mois mesuré en 2021 dont la croissance paraît particulièrement élevée.  "
   ]
  },
  {
   "cell_type": "code",
   "execution_count": 41,
   "id": "6197f087",
   "metadata": {},
   "outputs": [
    {
     "ename": "ERROR",
     "evalue": "Error in eval(expr, envir, enclos): objet 'pred_HW1' introuvable\n",
     "output_type": "error",
     "traceback": [
      "Error in eval(expr, envir, enclos): objet 'pred_HW1' introuvable\nTraceback:\n"
     ]
    }
   ],
   "source": [
    "pred_HW1_mean = pred_HW1$mean\n",
    "pred_HW1_low = pred_HW1$lower\n",
    "pred_HW1_up = pred_HW1$upper\n",
    "\n",
    "ts.plot(ts_data[,2], pred_HW1_mean, pred_HW1_low, pred_HW1_up, xlab=\"Année\", ylab=\"Consommation corrigée\", col=c(1,2,3,3), lty=c(1,1,2,2), lwd=c(3,3,2,2))\n",
    "legend(\"topleft\", legend=c(\"Consommation corrigée\", \"Prédiction\"), col=c(1,2,3,3), lty=c(1,1), lwd=c(3,3))\n",
    "legend(\"topright\", legend=c(\"int_inf_95%\", \"int_sup_95%\"), col=c(3,3), lty = c(2,2), lwd = c(2,2))"
   ]
  },
  {
   "cell_type": "markdown",
   "id": "f384196f",
   "metadata": {},
   "source": [
    "### Méthode SARIMA"
   ]
  },
  {
   "cell_type": "markdown",
   "id": "52625212",
   "metadata": {},
   "source": [
    "Une série temporelle est dite \"stationnaire\" si cette série n'a pas de tendance, qu'elle démontre une variance et une autocorrélation qui sont constantes dans le temps."
   ]
  },
  {
   "cell_type": "code",
   "execution_count": 42,
   "id": "5a5f2f19",
   "metadata": {},
   "outputs": [
    {
     "data": {
      "image/png": "[encoded data removed]",
      "text/plain": [
       "Plot with title \"Series  ts_data[, 2]\""
      ]
     },
     "metadata": {},
     "output_type": "display_data"
    }
   ],
   "source": [
    "# Autocorrélogramme simple de la consommation corrigée\n",
    "plot(acf(ts_data[,2],lag.max = 36, plot=FALSE), ylim=c(-1,1))"
   ]
  },
  {
   "cell_type": "markdown",
   "id": "2b1f5c1c",
   "metadata": {},
   "source": [
    "L'autocorrélogramme présente une décroissance rapide vers 0, mais avec des pics dépassant notre seuil tous les 5. Le processus ne semble donc pas stationnaire. Nous allons tenter de confirmer cette observation par le test de Dickey-Fuller augmenté."
   ]
  },
  {
   "cell_type": "code",
   "execution_count": 43,
   "id": "5b1ec30c",
   "metadata": {},
   "outputs": [
    {
     "data": {
      "text/plain": [
       "\n",
       "\tAugmented Dickey-Fuller Test\n",
       "\n",
       "data:  ts_data[, 2]\n",
       "Dickey-Fuller = -1.6466, Lag order = 12, p-value = 0.7233\n",
       "alternative hypothesis: stationary\n"
      ]
     },
     "metadata": {},
     "output_type": "display_data"
    }
   ],
   "source": [
    "# Test de Dickey-Fuller augmenté sur un lag de 12\n",
    "adf.test(ts_data[,2], alternative = \"stationary\", k = 12 )"
   ]
  },
  {
   "cell_type": "markdown",
   "id": "3d4861a8",
   "metadata": {},
   "source": [
    "Dans notre test, l'hypothèse nulle est que notre série temporelle est non-stationnaire. Nous constatons que la p-valeur est largement supérieure au seuil de 0.05. Nous ne pouvons pas rejeter l'hypothèse nulle. La série temporelle n'est donc pas stationnaire. "
   ]
  },
  {
   "cell_type": "code",
   "execution_count": 44,
   "id": "464794e7",
   "metadata": {},
   "outputs": [
    {
     "data": {
      "text/html": [
       "0"
      ],
      "text/latex": [
       "0"
      ],
      "text/markdown": [
       "0"
      ],
      "text/plain": [
       "[1] 0"
      ]
     },
     "metadata": {},
     "output_type": "display_data"
    },
    {
     "data": {
      "text/html": [
       "1"
      ],
      "text/latex": [
       "1"
      ],
      "text/markdown": [
       "1"
      ],
      "text/plain": [
       "[1] 1"
      ]
     },
     "metadata": {},
     "output_type": "display_data"
    }
   ],
   "source": [
    "# Estimation du nombre de différence requise pour rendre notre processus stationnaire\n",
    "ndiffs(ts_data[,2], alpha = 0.05)\n",
    "nsdiffs(ts_data[,2], alpha = 0.05)"
   ]
  },
  {
   "cell_type": "code",
   "execution_count": 45,
   "id": "60ff6415",
   "metadata": {},
   "outputs": [
    {
     "data": {
      "image/png": "[encoded data removed]",
      "text/plain": [
       "Plot with title \"Series  data_diff1\""
      ]
     },
     "metadata": {},
     "output_type": "display_data"
    }
   ],
   "source": [
    "# Autocorrélogramme testé avec une différenciation de 1\n",
    "data_diff1 = diff(ts_data[,2], lag=12, differences = 1)\n",
    "plot(acf(data_diff1, lag.max = 36, plot = FALSE), ylim=c(-1,1))"
   ]
  },
  {
   "cell_type": "markdown",
   "id": "d1e9cd62",
   "metadata": {},
   "source": [
    "Au regard, de l'autocorrélogramme, la série temporelle de première différence semble être stationnaire."
   ]
  },
  {
   "cell_type": "code",
   "execution_count": 47,
   "id": "73a9ebf4",
   "metadata": {},
   "outputs": [
    {
     "data": {
      "text/plain": [
       "\n",
       "\tAugmented Dickey-Fuller Test\n",
       "\n",
       "data:  data_diff1\n",
       "Dickey-Fuller = -1.2174, Lag order = 12, p-value = 0.9005\n",
       "alternative hypothesis: stationary\n"
      ]
     },
     "metadata": {},
     "output_type": "display_data"
    }
   ],
   "source": [
    "# Test de Dickey-Fuller augmenté sur le processus différencié une fois\n",
    "adf.test(data_diff1, alternative = \"stationary\", k = 12)"
   ]
  },
  {
   "cell_type": "markdown",
   "id": "36b4cdae",
   "metadata": {},
   "source": [
    "Le test de Dickey-Fuller confirme la stationnarité de notre série temporelle avec une différence de 1."
   ]
  },
  {
   "cell_type": "code",
   "execution_count": 48,
   "id": "e3927dec",
   "metadata": {},
   "outputs": [
    {
     "data": {
      "image/png": "[encoded data removed]",
      "text/plain": [
       "Plot with title \"Series  data_diff1\""
      ]
     },
     "metadata": {},
     "output_type": "display_data"
    }
   ],
   "source": [
    "# Autocorrélogramme partiel testé avec une différenciation de 1\n",
    "plot(pacf(data_diff1, lag.max = 36, plot = FALSE), ylim=c(-1,1))"
   ]
  },
  {
   "cell_type": "markdown",
   "id": "06f40f38",
   "metadata": {},
   "source": [
    "L'autocorrélogramme partiel confirme qu'avec une différence de 1 (d=1), le processus est maintenant stationnaire."
   ]
  },
  {
   "cell_type": "code",
   "execution_count": 50,
   "id": "470d32fc",
   "metadata": {},
   "outputs": [
    {
     "name": "stdout",
     "output_type": "stream",
     "text": [
      "\n",
      "Call:\n",
      "arima(x = ts_data[, 2], order = c(0, 0, 2), seasonal = list(order = c(0, 1, \n",
      "    1), period = 12), include.mean = FALSE, method = \"CSS-ML\")\n",
      "\n",
      "Coefficients:\n",
      "         ma1     ma2     sma1\n",
      "      0.3142  0.1242  -0.8551\n",
      "s.e.  0.1079  0.1029   0.1891\n",
      "\n",
      "sigma^2 estimated as 1355533:  log likelihood = -906.41,  aic = 1820.81\n",
      "\n",
      "Training set error measures:\n",
      "                   ME     RMSE      MAE        MPE     MAPE      MASE\n",
      "Training set -130.609 1103.534 783.8653 -0.5331479 2.522088 0.4236355\n",
      "                    ACF1\n",
      "Training set -0.00603515\n"
     ]
    }
   ],
   "source": [
    "# Test avec un modèle (0,0,2) (0,1,1) déduit de l'analyse des pics du corrélogramme\n",
    "model1 = arima(ts_data[,2], order = c(0,0,2), list(order=c(0,1,1), period=12),include.mean = FALSE, method = \"CSS-ML\")\n",
    "summary(model1)"
   ]
  },
  {
   "cell_type": "markdown",
   "id": "1388fc90",
   "metadata": {},
   "source": [
    "Au regard du MAPE, notre modèle nous donne un pourcentage d'erreur de 2,52%.\n",
    "Le MAE indique un erreur moyenne absolue de 783"
   ]
  },
  {
   "cell_type": "code",
   "execution_count": 51,
   "id": "c422a352",
   "metadata": {},
   "outputs": [
    {
     "name": "stdout",
     "output_type": "stream",
     "text": [
      "\n",
      "Call:\n",
      "arima(x = ts_data[, 2], order = c(1, 1, 1), seasonal = list(order = c(1, 1, \n",
      "    1), period = 12), include.mean = FALSE, method = \"CSS-ML\")\n",
      "\n",
      "Coefficients:\n",
      "         ar1      ma1    sar1     sma1\n",
      "      0.0733  -0.7419  0.0988  -0.9071\n",
      "s.e.  0.1611   0.1283  0.1486   0.2837\n",
      "\n",
      "sigma^2 estimated as 1345188:  log likelihood = -898.63,  aic = 1807.25\n",
      "\n",
      "Training set error measures:\n",
      "                   ME     RMSE     MAE       MPE     MAPE      MASE\n",
      "Training set 145.3171 1094.129 763.032 0.3614672 2.429961 0.4123763\n",
      "                     ACF1\n",
      "Training set -0.009863609\n"
     ]
    }
   ],
   "source": [
    "model2 = arima(ts_data[,2], order = c(1,1,1), list(order=c(1,1,1), period=12),include.mean = FALSE, method = \"CSS-ML\")\n",
    "summary(model1)"
   ]
  },
  {
   "cell_type": "markdown",
   "id": "e9d81d02",
   "metadata": {},
   "source": [
    "Au regard du MAPE, notre modèle nous donne un pourcentage d'erreur de 2,42%.\n",
    "Le MAE indique un erreur moyenne absolue de 763"
   ]
  },
  {
   "cell_type": "code",
   "execution_count": 55,
   "id": "5bbff434",
   "metadata": {},
   "outputs": [
    {
     "name": "stdout",
     "output_type": "stream",
     "text": [
      "\n",
      "Call:\n",
      "arima(x = ts_data[, 2], order = c(1, 1, 1), seasonal = list(order = c(0, 1, \n",
      "    1), period = 12), include.mean = FALSE, method = \"CSS-ML\")\n",
      "\n",
      "Coefficients:\n",
      "         ar1      ma1     sma1\n",
      "      0.0704  -0.7369  -0.8360\n",
      "s.e.  0.1652   0.1342   0.1727\n",
      "\n",
      "sigma^2 estimated as 1386918:  log likelihood = -898.85,  aic = 1805.7\n",
      "\n",
      "Training set error measures:\n",
      "                   ME     RMSE      MAE       MPE     MAPE      MASE\n",
      "Training set 143.1625 1110.968 771.6409 0.3518058 2.458898 0.4170289\n",
      "                    ACF1\n",
      "Training set -0.01007582\n"
     ]
    }
   ],
   "source": [
    "model3 = arima(ts_data[,2], order = c(1,1,1), list(order=c(0,1,1), period=12),include.mean = FALSE, method = \"CSS-ML\")\n",
    "summary(model3)"
   ]
  },
  {
   "cell_type": "code",
   "execution_count": 57,
   "id": "1be8faab",
   "metadata": {},
   "outputs": [
    {
     "name": "stdout",
     "output_type": "stream",
     "text": [
      "\n",
      "Call:\n",
      "arima(x = ts_data[, 2], order = c(0, 1, 1), seasonal = list(order = c(0, 1, \n",
      "    1), period = 12), include.mean = FALSE, method = \"CSS-ML\")\n",
      "\n",
      "Coefficients:\n",
      "          ma1     sma1\n",
      "      -0.6943  -0.8309\n",
      "s.e.   0.1010   0.1705\n",
      "\n",
      "sigma^2 estimated as 1393836:  log likelihood = -898.94,  aic = 1803.88\n",
      "\n",
      "Training set error measures:\n",
      "                ME     RMSE      MAE       MPE     MAPE      MASE       ACF1\n",
      "Training set 145.1 1113.736 772.1324 0.3578019 2.460469 0.4172945 0.01177019\n"
     ]
    }
   ],
   "source": [
    "model4 = arima(ts_data[,2], order = c(0,1,1), list(order=c(0,1,1), period=12),include.mean = FALSE, method = \"CSS-ML\")\n",
    "summary(model4)"
   ]
  },
  {
   "cell_type": "markdown",
   "id": "df393208",
   "metadata": {},
   "source": [
    "MAPE=2.46 signifie qu'on se trompe avec 2.46 d'erreur\n",
    "MAE=772 erreur moyenne absolue (avec unités de notre variable)"
   ]
  },
  {
   "cell_type": "code",
   "execution_count": null,
   "id": "4a5c326b",
   "metadata": {},
   "outputs": [],
   "source": []
  },
  {
   "cell_type": "code",
   "execution_count": null,
   "id": "69c39934",
   "metadata": {},
   "outputs": [],
   "source": []
  },
  {
   "cell_type": "markdown",
   "id": "2db0f715",
   "metadata": {},
   "source": [
    "## Bibliographie:\n",
    "\n",
    "Introduction aux séries temporelles: \n",
    "<http://eric.univ-lyon2.fr/~jjacques/Download/Cours/ST-Cours.pdf>\n",
    "\n",
    "Les séries temporelles: \n",
    "<https://essicolo.github.io/ecologie-mathematique-R/chapitre-temps.html>\n",
    "\n",
    "Généralités sur les séries chronologiques: \n",
    "<https://www.i3s.unice.fr/~crescenz/publications/Florence/introduction-series-chronologiques_chapitre-1.pdf>\n",
    "\n",
    "Séries chronologique avec R (S. Rubenthaler): \n",
    "<https://cel.archives-ouvertes.fr/hal-02429148/document>\n",
    "\n",
    "Forecasting: Principles and Practice: \n",
    "<https://otexts.com/fpp2/>\n",
    "\n",
    "Forecasting using R (Datacamp): \n",
    "<https://campus.datacamp.com/courses/forecasting-in-r/exploring-and-visualizing-time-series-in-r?ex=1>\n",
    "\n",
    "Plotting ts objects: \n",
    "<https://cran.r-project.org/web/packages/ggfortify/vignettes/plot_ts.html>\n",
    "\n",
    "Time Series Forecasting in R with Holt-Winters: \n",
    "<https://towardsdatascience.com/time-series-forecasting-in-r-with-holt-winters-16ef9ebdb6c0>\n",
    "\n",
    "Test de Fickey-Fuller:\n",
    "<https://www.statology.org/dickey-fuller-test-in-r/>\n",
    "\n",
    "Time Series Analysis with R (github de Nicolas Righetti):\n",
    "<https://nicolarighetti.github.io/Time-Series-Analysis-With-R/>\n",
    "\n",
    "Time Series Analysis (R Cookbook 2nd Edition):\n",
    "<https://rc2e.com/timeseriesanalysis>\n",
    "\n",
    "Using R for Time Series Analysis:\n",
    "<https://a-little-book-of-r-for-time-series.readthedocs.io/en/latest/src/timeseries.html#holt-winters-exponential-smoothing>"
   ]
  }
 ],
 "metadata": {
  "kernelspec": {
   "display_name": "R",
   "language": "R",
   "name": "ir"
  },
  "language_info": {
   "codemirror_mode": "r",
   "file_extension": ".r",
   "mimetype": "text/x-r-source",
   "name": "R",
   "pygments_lexer": "r",
   "version": "3.6.1"
  }
 },
 "nbformat": 4,
 "nbformat_minor": 5
}
